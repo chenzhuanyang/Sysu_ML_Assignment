{
 "cells": [
  {
   "cell_type": "code",
   "execution_count": 2,
   "metadata": {},
   "outputs": [],
   "source": [
    "import pandas as pd\n",
    "import scipy\n",
    "import numpy as np\n",
    "%matplotlib inline"
   ]
  },
  {
   "cell_type": "code",
   "execution_count": 3,
   "metadata": {},
   "outputs": [],
   "source": [
    "data_url = \"https://raw.githubusercontent.com/alstat/Analysis-with-Programming/master/2014/Python/Numerical-Descriptions-of-the-Data/data.csv\" \n",
    "df = pd.read_csv(data_url)"
   ]
  },
  {
   "cell_type": "code",
   "execution_count": 4,
   "metadata": {},
   "outputs": [
    {
     "data": {
      "text/html": [
       "<div>\n",
       "<style scoped>\n",
       "    .dataframe tbody tr th:only-of-type {\n",
       "        vertical-align: middle;\n",
       "    }\n",
       "\n",
       "    .dataframe tbody tr th {\n",
       "        vertical-align: top;\n",
       "    }\n",
       "\n",
       "    .dataframe thead th {\n",
       "        text-align: right;\n",
       "    }\n",
       "</style>\n",
       "<table border=\"1\" class=\"dataframe\">\n",
       "  <thead>\n",
       "    <tr style=\"text-align: right;\">\n",
       "      <th></th>\n",
       "      <th>Abra</th>\n",
       "      <th>Apayao</th>\n",
       "      <th>Benguet</th>\n",
       "      <th>Ifugao</th>\n",
       "      <th>Kalinga</th>\n",
       "    </tr>\n",
       "  </thead>\n",
       "  <tbody>\n",
       "    <tr>\n",
       "      <th>0</th>\n",
       "      <td>1243</td>\n",
       "      <td>2934</td>\n",
       "      <td>148</td>\n",
       "      <td>3300</td>\n",
       "      <td>10553</td>\n",
       "    </tr>\n",
       "    <tr>\n",
       "      <th>1</th>\n",
       "      <td>4158</td>\n",
       "      <td>9235</td>\n",
       "      <td>4287</td>\n",
       "      <td>8063</td>\n",
       "      <td>35257</td>\n",
       "    </tr>\n",
       "    <tr>\n",
       "      <th>2</th>\n",
       "      <td>1787</td>\n",
       "      <td>1922</td>\n",
       "      <td>1955</td>\n",
       "      <td>1074</td>\n",
       "      <td>4544</td>\n",
       "    </tr>\n",
       "    <tr>\n",
       "      <th>3</th>\n",
       "      <td>17152</td>\n",
       "      <td>14501</td>\n",
       "      <td>3536</td>\n",
       "      <td>19607</td>\n",
       "      <td>31687</td>\n",
       "    </tr>\n",
       "    <tr>\n",
       "      <th>4</th>\n",
       "      <td>1266</td>\n",
       "      <td>2385</td>\n",
       "      <td>2530</td>\n",
       "      <td>3315</td>\n",
       "      <td>8520</td>\n",
       "    </tr>\n",
       "  </tbody>\n",
       "</table>\n",
       "</div>"
      ],
      "text/plain": [
       "    Abra  Apayao  Benguet  Ifugao  Kalinga\n",
       "0   1243    2934      148    3300    10553\n",
       "1   4158    9235     4287    8063    35257\n",
       "2   1787    1922     1955    1074     4544\n",
       "3  17152   14501     3536   19607    31687\n",
       "4   1266    2385     2530    3315     8520"
      ]
     },
     "execution_count": 4,
     "metadata": {},
     "output_type": "execute_result"
    }
   ],
   "source": [
    "df.head()"
   ]
  },
  {
   "cell_type": "markdown",
   "metadata": {},
   "source": [
    "## 操作说明pandas数据缺失值处理"
   ]
  },
  {
   "cell_type": "markdown",
   "metadata": {},
   "source": [
    "### reindex()"
   ]
  },
  {
   "cell_type": "markdown",
   "metadata": {},
   "source": [
    "reindex()可改变/增加/删除指定轴上的索引，空缺值默认使用NaN代替"
   ]
  },
  {
   "cell_type": "code",
   "execution_count": 5,
   "metadata": {},
   "outputs": [
    {
     "data": {
      "text/html": [
       "<div>\n",
       "<style scoped>\n",
       "    .dataframe tbody tr th:only-of-type {\n",
       "        vertical-align: middle;\n",
       "    }\n",
       "\n",
       "    .dataframe tbody tr th {\n",
       "        vertical-align: top;\n",
       "    }\n",
       "\n",
       "    .dataframe thead th {\n",
       "        text-align: right;\n",
       "    }\n",
       "</style>\n",
       "<table border=\"1\" class=\"dataframe\">\n",
       "  <thead>\n",
       "    <tr style=\"text-align: right;\">\n",
       "      <th></th>\n",
       "      <th>Abra</th>\n",
       "      <th>Apayao</th>\n",
       "      <th>Benguet</th>\n",
       "      <th>Ifugao</th>\n",
       "      <th>Kalinga</th>\n",
       "    </tr>\n",
       "  </thead>\n",
       "  <tbody>\n",
       "    <tr>\n",
       "      <th>1</th>\n",
       "      <td>4158.0</td>\n",
       "      <td>9235.0</td>\n",
       "      <td>4287.0</td>\n",
       "      <td>8063.0</td>\n",
       "      <td>35257.0</td>\n",
       "    </tr>\n",
       "    <tr>\n",
       "      <th>0</th>\n",
       "      <td>1243.0</td>\n",
       "      <td>2934.0</td>\n",
       "      <td>148.0</td>\n",
       "      <td>3300.0</td>\n",
       "      <td>10553.0</td>\n",
       "    </tr>\n",
       "    <tr>\n",
       "      <th>10</th>\n",
       "      <td>NaN</td>\n",
       "      <td>NaN</td>\n",
       "      <td>NaN</td>\n",
       "      <td>NaN</td>\n",
       "      <td>NaN</td>\n",
       "    </tr>\n",
       "  </tbody>\n",
       "</table>\n",
       "</div>"
      ],
      "text/plain": [
       "      Abra  Apayao  Benguet  Ifugao  Kalinga\n",
       "1   4158.0  9235.0   4287.0  8063.0  35257.0\n",
       "0   1243.0  2934.0    148.0  3300.0  10553.0\n",
       "10     NaN     NaN      NaN     NaN      NaN"
      ]
     },
     "execution_count": 5,
     "metadata": {},
     "output_type": "execute_result"
    }
   ],
   "source": [
    "df.head().reindex([1,0,10])"
   ]
  },
  {
   "cell_type": "markdown",
   "metadata": {},
   "source": [
    "也可以利用fill_value参数指定替代值"
   ]
  },
  {
   "cell_type": "code",
   "execution_count": 6,
   "metadata": {},
   "outputs": [
    {
     "data": {
      "text/html": [
       "<div>\n",
       "<style scoped>\n",
       "    .dataframe tbody tr th:only-of-type {\n",
       "        vertical-align: middle;\n",
       "    }\n",
       "\n",
       "    .dataframe tbody tr th {\n",
       "        vertical-align: top;\n",
       "    }\n",
       "\n",
       "    .dataframe thead th {\n",
       "        text-align: right;\n",
       "    }\n",
       "</style>\n",
       "<table border=\"1\" class=\"dataframe\">\n",
       "  <thead>\n",
       "    <tr style=\"text-align: right;\">\n",
       "      <th></th>\n",
       "      <th>Abra</th>\n",
       "      <th>Apayao</th>\n",
       "      <th>Benguet</th>\n",
       "      <th>Ifugao</th>\n",
       "      <th>Kalinga</th>\n",
       "    </tr>\n",
       "  </thead>\n",
       "  <tbody>\n",
       "    <tr>\n",
       "      <th>1</th>\n",
       "      <td>4158</td>\n",
       "      <td>9235</td>\n",
       "      <td>4287</td>\n",
       "      <td>8063</td>\n",
       "      <td>35257</td>\n",
       "    </tr>\n",
       "    <tr>\n",
       "      <th>0</th>\n",
       "      <td>1243</td>\n",
       "      <td>2934</td>\n",
       "      <td>148</td>\n",
       "      <td>3300</td>\n",
       "      <td>10553</td>\n",
       "    </tr>\n",
       "    <tr>\n",
       "      <th>10</th>\n",
       "      <td>missing</td>\n",
       "      <td>missing</td>\n",
       "      <td>missing</td>\n",
       "      <td>missing</td>\n",
       "      <td>missing</td>\n",
       "    </tr>\n",
       "  </tbody>\n",
       "</table>\n",
       "</div>"
      ],
      "text/plain": [
       "       Abra   Apayao  Benguet   Ifugao  Kalinga\n",
       "1      4158     9235     4287     8063    35257\n",
       "0      1243     2934      148     3300    10553\n",
       "10  missing  missing  missing  missing  missing"
      ]
     },
     "execution_count": 6,
     "metadata": {},
     "output_type": "execute_result"
    }
   ],
   "source": [
    "df.head().reindex([1,0,10], fill_value='missing')"
   ]
  },
  {
   "cell_type": "markdown",
   "metadata": {},
   "source": [
    "### dropna()"
   ]
  },
  {
   "cell_type": "markdown",
   "metadata": {},
   "source": [
    "用于去掉包含缺失值的行"
   ]
  },
  {
   "cell_type": "code",
   "execution_count": 7,
   "metadata": {},
   "outputs": [
    {
     "data": {
      "text/html": [
       "<div>\n",
       "<style scoped>\n",
       "    .dataframe tbody tr th:only-of-type {\n",
       "        vertical-align: middle;\n",
       "    }\n",
       "\n",
       "    .dataframe tbody tr th {\n",
       "        vertical-align: top;\n",
       "    }\n",
       "\n",
       "    .dataframe thead th {\n",
       "        text-align: right;\n",
       "    }\n",
       "</style>\n",
       "<table border=\"1\" class=\"dataframe\">\n",
       "  <thead>\n",
       "    <tr style=\"text-align: right;\">\n",
       "      <th></th>\n",
       "      <th>name</th>\n",
       "      <th>toy</th>\n",
       "      <th>born</th>\n",
       "    </tr>\n",
       "  </thead>\n",
       "  <tbody>\n",
       "    <tr>\n",
       "      <th>0</th>\n",
       "      <td>Alfred</td>\n",
       "      <td>NaN</td>\n",
       "      <td>NaT</td>\n",
       "    </tr>\n",
       "    <tr>\n",
       "      <th>1</th>\n",
       "      <td>Batman</td>\n",
       "      <td>Batmobile</td>\n",
       "      <td>1940-04-25</td>\n",
       "    </tr>\n",
       "    <tr>\n",
       "      <th>2</th>\n",
       "      <td>Catwoman</td>\n",
       "      <td>Bullwhip</td>\n",
       "      <td>NaT</td>\n",
       "    </tr>\n",
       "  </tbody>\n",
       "</table>\n",
       "</div>"
      ],
      "text/plain": [
       "       name        toy       born\n",
       "0    Alfred        NaN        NaT\n",
       "1    Batman  Batmobile 1940-04-25\n",
       "2  Catwoman   Bullwhip        NaT"
      ]
     },
     "execution_count": 7,
     "metadata": {},
     "output_type": "execute_result"
    }
   ],
   "source": [
    "test = pd.DataFrame({\"name\": ['Alfred', 'Batman', 'Catwoman'],\n",
    "                    \"toy\": [np.nan, 'Batmobile', 'Bullwhip'],\n",
    "                    \"born\": [pd.NaT, pd.Timestamp(\"1940-04-25\"),\n",
    "                             pd.NaT]})\n",
    "test"
   ]
  },
  {
   "cell_type": "code",
   "execution_count": 8,
   "metadata": {},
   "outputs": [
    {
     "data": {
      "text/html": [
       "<div>\n",
       "<style scoped>\n",
       "    .dataframe tbody tr th:only-of-type {\n",
       "        vertical-align: middle;\n",
       "    }\n",
       "\n",
       "    .dataframe tbody tr th {\n",
       "        vertical-align: top;\n",
       "    }\n",
       "\n",
       "    .dataframe thead th {\n",
       "        text-align: right;\n",
       "    }\n",
       "</style>\n",
       "<table border=\"1\" class=\"dataframe\">\n",
       "  <thead>\n",
       "    <tr style=\"text-align: right;\">\n",
       "      <th></th>\n",
       "      <th>name</th>\n",
       "      <th>toy</th>\n",
       "      <th>born</th>\n",
       "    </tr>\n",
       "  </thead>\n",
       "  <tbody>\n",
       "    <tr>\n",
       "      <th>1</th>\n",
       "      <td>Batman</td>\n",
       "      <td>Batmobile</td>\n",
       "      <td>1940-04-25</td>\n",
       "    </tr>\n",
       "  </tbody>\n",
       "</table>\n",
       "</div>"
      ],
      "text/plain": [
       "     name        toy       born\n",
       "1  Batman  Batmobile 1940-04-25"
      ]
     },
     "execution_count": 8,
     "metadata": {},
     "output_type": "execute_result"
    }
   ],
   "source": [
    "test.dropna()"
   ]
  },
  {
   "cell_type": "markdown",
   "metadata": {},
   "source": [
    "也可以设定为删除包含缺失值的列"
   ]
  },
  {
   "cell_type": "code",
   "execution_count": 9,
   "metadata": {},
   "outputs": [
    {
     "data": {
      "text/html": [
       "<div>\n",
       "<style scoped>\n",
       "    .dataframe tbody tr th:only-of-type {\n",
       "        vertical-align: middle;\n",
       "    }\n",
       "\n",
       "    .dataframe tbody tr th {\n",
       "        vertical-align: top;\n",
       "    }\n",
       "\n",
       "    .dataframe thead th {\n",
       "        text-align: right;\n",
       "    }\n",
       "</style>\n",
       "<table border=\"1\" class=\"dataframe\">\n",
       "  <thead>\n",
       "    <tr style=\"text-align: right;\">\n",
       "      <th></th>\n",
       "      <th>name</th>\n",
       "    </tr>\n",
       "  </thead>\n",
       "  <tbody>\n",
       "    <tr>\n",
       "      <th>0</th>\n",
       "      <td>Alfred</td>\n",
       "    </tr>\n",
       "    <tr>\n",
       "      <th>1</th>\n",
       "      <td>Batman</td>\n",
       "    </tr>\n",
       "    <tr>\n",
       "      <th>2</th>\n",
       "      <td>Catwoman</td>\n",
       "    </tr>\n",
       "  </tbody>\n",
       "</table>\n",
       "</div>"
      ],
      "text/plain": [
       "       name\n",
       "0    Alfred\n",
       "1    Batman\n",
       "2  Catwoman"
      ]
     },
     "execution_count": 9,
     "metadata": {},
     "output_type": "execute_result"
    }
   ],
   "source": [
    "test.dropna(axis='columns')"
   ]
  },
  {
   "cell_type": "markdown",
   "metadata": {},
   "source": [
    "去掉数据全部缺失的行"
   ]
  },
  {
   "cell_type": "code",
   "execution_count": 10,
   "metadata": {},
   "outputs": [
    {
     "data": {
      "text/html": [
       "<div>\n",
       "<style scoped>\n",
       "    .dataframe tbody tr th:only-of-type {\n",
       "        vertical-align: middle;\n",
       "    }\n",
       "\n",
       "    .dataframe tbody tr th {\n",
       "        vertical-align: top;\n",
       "    }\n",
       "\n",
       "    .dataframe thead th {\n",
       "        text-align: right;\n",
       "    }\n",
       "</style>\n",
       "<table border=\"1\" class=\"dataframe\">\n",
       "  <thead>\n",
       "    <tr style=\"text-align: right;\">\n",
       "      <th></th>\n",
       "      <th>name</th>\n",
       "      <th>toy</th>\n",
       "      <th>born</th>\n",
       "    </tr>\n",
       "  </thead>\n",
       "  <tbody>\n",
       "    <tr>\n",
       "      <th>0</th>\n",
       "      <td>Alfred</td>\n",
       "      <td>NaN</td>\n",
       "      <td>NaT</td>\n",
       "    </tr>\n",
       "    <tr>\n",
       "      <th>1</th>\n",
       "      <td>Batman</td>\n",
       "      <td>Batmobile</td>\n",
       "      <td>1940-04-25</td>\n",
       "    </tr>\n",
       "    <tr>\n",
       "      <th>2</th>\n",
       "      <td>Catwoman</td>\n",
       "      <td>Bullwhip</td>\n",
       "      <td>NaT</td>\n",
       "    </tr>\n",
       "  </tbody>\n",
       "</table>\n",
       "</div>"
      ],
      "text/plain": [
       "       name        toy       born\n",
       "0    Alfred        NaN        NaT\n",
       "1    Batman  Batmobile 1940-04-25\n",
       "2  Catwoman   Bullwhip        NaT"
      ]
     },
     "execution_count": 10,
     "metadata": {},
     "output_type": "execute_result"
    }
   ],
   "source": [
    "test.dropna(how='all')"
   ]
  },
  {
   "cell_type": "markdown",
   "metadata": {},
   "source": [
    "只保留至少含有指定阀值项的数据"
   ]
  },
  {
   "cell_type": "code",
   "execution_count": 11,
   "metadata": {},
   "outputs": [
    {
     "data": {
      "text/html": [
       "<div>\n",
       "<style scoped>\n",
       "    .dataframe tbody tr th:only-of-type {\n",
       "        vertical-align: middle;\n",
       "    }\n",
       "\n",
       "    .dataframe tbody tr th {\n",
       "        vertical-align: top;\n",
       "    }\n",
       "\n",
       "    .dataframe thead th {\n",
       "        text-align: right;\n",
       "    }\n",
       "</style>\n",
       "<table border=\"1\" class=\"dataframe\">\n",
       "  <thead>\n",
       "    <tr style=\"text-align: right;\">\n",
       "      <th></th>\n",
       "      <th>name</th>\n",
       "      <th>toy</th>\n",
       "      <th>born</th>\n",
       "    </tr>\n",
       "  </thead>\n",
       "  <tbody>\n",
       "    <tr>\n",
       "      <th>1</th>\n",
       "      <td>Batman</td>\n",
       "      <td>Batmobile</td>\n",
       "      <td>1940-04-25</td>\n",
       "    </tr>\n",
       "    <tr>\n",
       "      <th>2</th>\n",
       "      <td>Catwoman</td>\n",
       "      <td>Bullwhip</td>\n",
       "      <td>NaT</td>\n",
       "    </tr>\n",
       "  </tbody>\n",
       "</table>\n",
       "</div>"
      ],
      "text/plain": [
       "       name        toy       born\n",
       "1    Batman  Batmobile 1940-04-25\n",
       "2  Catwoman   Bullwhip        NaT"
      ]
     },
     "execution_count": 11,
     "metadata": {},
     "output_type": "execute_result"
    }
   ],
   "source": [
    "test.dropna(thresh=2)"
   ]
  },
  {
   "cell_type": "markdown",
   "metadata": {},
   "source": [
    "指定在哪些列寻找缺失值"
   ]
  },
  {
   "cell_type": "code",
   "execution_count": 12,
   "metadata": {},
   "outputs": [
    {
     "data": {
      "text/html": [
       "<div>\n",
       "<style scoped>\n",
       "    .dataframe tbody tr th:only-of-type {\n",
       "        vertical-align: middle;\n",
       "    }\n",
       "\n",
       "    .dataframe tbody tr th {\n",
       "        vertical-align: top;\n",
       "    }\n",
       "\n",
       "    .dataframe thead th {\n",
       "        text-align: right;\n",
       "    }\n",
       "</style>\n",
       "<table border=\"1\" class=\"dataframe\">\n",
       "  <thead>\n",
       "    <tr style=\"text-align: right;\">\n",
       "      <th></th>\n",
       "      <th>name</th>\n",
       "      <th>toy</th>\n",
       "      <th>born</th>\n",
       "    </tr>\n",
       "  </thead>\n",
       "  <tbody>\n",
       "    <tr>\n",
       "      <th>1</th>\n",
       "      <td>Batman</td>\n",
       "      <td>Batmobile</td>\n",
       "      <td>1940-04-25</td>\n",
       "    </tr>\n",
       "    <tr>\n",
       "      <th>2</th>\n",
       "      <td>Catwoman</td>\n",
       "      <td>Bullwhip</td>\n",
       "      <td>NaT</td>\n",
       "    </tr>\n",
       "  </tbody>\n",
       "</table>\n",
       "</div>"
      ],
      "text/plain": [
       "       name        toy       born\n",
       "1    Batman  Batmobile 1940-04-25\n",
       "2  Catwoman   Bullwhip        NaT"
      ]
     },
     "execution_count": 12,
     "metadata": {},
     "output_type": "execute_result"
    }
   ],
   "source": [
    "test.dropna(subset=['toy'])"
   ]
  },
  {
   "cell_type": "markdown",
   "metadata": {},
   "source": [
    "### fillna()"
   ]
  },
  {
   "cell_type": "markdown",
   "metadata": {},
   "source": [
    "用于对缺失值进行填充"
   ]
  },
  {
   "cell_type": "code",
   "execution_count": 13,
   "metadata": {},
   "outputs": [
    {
     "data": {
      "text/html": [
       "<div>\n",
       "<style scoped>\n",
       "    .dataframe tbody tr th:only-of-type {\n",
       "        vertical-align: middle;\n",
       "    }\n",
       "\n",
       "    .dataframe tbody tr th {\n",
       "        vertical-align: top;\n",
       "    }\n",
       "\n",
       "    .dataframe thead th {\n",
       "        text-align: right;\n",
       "    }\n",
       "</style>\n",
       "<table border=\"1\" class=\"dataframe\">\n",
       "  <thead>\n",
       "    <tr style=\"text-align: right;\">\n",
       "      <th></th>\n",
       "      <th>Abra</th>\n",
       "      <th>Apayao</th>\n",
       "      <th>Benguet</th>\n",
       "      <th>Ifugao</th>\n",
       "      <th>Kalinga</th>\n",
       "    </tr>\n",
       "  </thead>\n",
       "  <tbody>\n",
       "    <tr>\n",
       "      <th>1</th>\n",
       "      <td>4158.0</td>\n",
       "      <td>9235.0</td>\n",
       "      <td>4287.0</td>\n",
       "      <td>8063.0</td>\n",
       "      <td>35257.0</td>\n",
       "    </tr>\n",
       "    <tr>\n",
       "      <th>0</th>\n",
       "      <td>1243.0</td>\n",
       "      <td>2934.0</td>\n",
       "      <td>148.0</td>\n",
       "      <td>3300.0</td>\n",
       "      <td>10553.0</td>\n",
       "    </tr>\n",
       "    <tr>\n",
       "      <th>10</th>\n",
       "      <td>5.0</td>\n",
       "      <td>5.0</td>\n",
       "      <td>5.0</td>\n",
       "      <td>5.0</td>\n",
       "      <td>5.0</td>\n",
       "    </tr>\n",
       "  </tbody>\n",
       "</table>\n",
       "</div>"
      ],
      "text/plain": [
       "      Abra  Apayao  Benguet  Ifugao  Kalinga\n",
       "1   4158.0  9235.0   4287.0  8063.0  35257.0\n",
       "0   1243.0  2934.0    148.0  3300.0  10553.0\n",
       "10     5.0     5.0      5.0     5.0      5.0"
      ]
     },
     "execution_count": 13,
     "metadata": {},
     "output_type": "execute_result"
    }
   ],
   "source": [
    "df.head().reindex([1,0,10]).fillna(5)"
   ]
  },
  {
   "cell_type": "markdown",
   "metadata": {},
   "source": [
    "也可以指定特定的方法"
   ]
  },
  {
   "cell_type": "code",
   "execution_count": 14,
   "metadata": {},
   "outputs": [
    {
     "data": {
      "text/html": [
       "<div>\n",
       "<style scoped>\n",
       "    .dataframe tbody tr th:only-of-type {\n",
       "        vertical-align: middle;\n",
       "    }\n",
       "\n",
       "    .dataframe tbody tr th {\n",
       "        vertical-align: top;\n",
       "    }\n",
       "\n",
       "    .dataframe thead th {\n",
       "        text-align: right;\n",
       "    }\n",
       "</style>\n",
       "<table border=\"1\" class=\"dataframe\">\n",
       "  <thead>\n",
       "    <tr style=\"text-align: right;\">\n",
       "      <th></th>\n",
       "      <th>Abra</th>\n",
       "      <th>Apayao</th>\n",
       "      <th>Benguet</th>\n",
       "      <th>Ifugao</th>\n",
       "      <th>Kalinga</th>\n",
       "    </tr>\n",
       "  </thead>\n",
       "  <tbody>\n",
       "    <tr>\n",
       "      <th>1</th>\n",
       "      <td>4158.0</td>\n",
       "      <td>9235.0</td>\n",
       "      <td>4287.0</td>\n",
       "      <td>8063.0</td>\n",
       "      <td>35257.0</td>\n",
       "    </tr>\n",
       "    <tr>\n",
       "      <th>0</th>\n",
       "      <td>1243.0</td>\n",
       "      <td>2934.0</td>\n",
       "      <td>148.0</td>\n",
       "      <td>3300.0</td>\n",
       "      <td>10553.0</td>\n",
       "    </tr>\n",
       "    <tr>\n",
       "      <th>10</th>\n",
       "      <td>1243.0</td>\n",
       "      <td>2934.0</td>\n",
       "      <td>148.0</td>\n",
       "      <td>3300.0</td>\n",
       "      <td>10553.0</td>\n",
       "    </tr>\n",
       "  </tbody>\n",
       "</table>\n",
       "</div>"
      ],
      "text/plain": [
       "      Abra  Apayao  Benguet  Ifugao  Kalinga\n",
       "1   4158.0  9235.0   4287.0  8063.0  35257.0\n",
       "0   1243.0  2934.0    148.0  3300.0  10553.0\n",
       "10  1243.0  2934.0    148.0  3300.0  10553.0"
      ]
     },
     "execution_count": 14,
     "metadata": {},
     "output_type": "execute_result"
    }
   ],
   "source": [
    "df.head().reindex([1,0,10]).fillna(method=\"ffill\")"
   ]
  },
  {
   "cell_type": "markdown",
   "metadata": {},
   "source": [
    "限定每一列填充的数值"
   ]
  },
  {
   "cell_type": "code",
   "execution_count": 15,
   "metadata": {},
   "outputs": [
    {
     "data": {
      "text/html": [
       "<div>\n",
       "<style scoped>\n",
       "    .dataframe tbody tr th:only-of-type {\n",
       "        vertical-align: middle;\n",
       "    }\n",
       "\n",
       "    .dataframe tbody tr th {\n",
       "        vertical-align: top;\n",
       "    }\n",
       "\n",
       "    .dataframe thead th {\n",
       "        text-align: right;\n",
       "    }\n",
       "</style>\n",
       "<table border=\"1\" class=\"dataframe\">\n",
       "  <thead>\n",
       "    <tr style=\"text-align: right;\">\n",
       "      <th></th>\n",
       "      <th>Abra</th>\n",
       "      <th>Apayao</th>\n",
       "      <th>Benguet</th>\n",
       "      <th>Ifugao</th>\n",
       "      <th>Kalinga</th>\n",
       "    </tr>\n",
       "  </thead>\n",
       "  <tbody>\n",
       "    <tr>\n",
       "      <th>1</th>\n",
       "      <td>4158.0</td>\n",
       "      <td>9235.0</td>\n",
       "      <td>4287.0</td>\n",
       "      <td>8063.0</td>\n",
       "      <td>35257.0</td>\n",
       "    </tr>\n",
       "    <tr>\n",
       "      <th>0</th>\n",
       "      <td>1243.0</td>\n",
       "      <td>2934.0</td>\n",
       "      <td>148.0</td>\n",
       "      <td>3300.0</td>\n",
       "      <td>10553.0</td>\n",
       "    </tr>\n",
       "    <tr>\n",
       "      <th>10</th>\n",
       "      <td>0.0</td>\n",
       "      <td>1.0</td>\n",
       "      <td>NaN</td>\n",
       "      <td>NaN</td>\n",
       "      <td>NaN</td>\n",
       "    </tr>\n",
       "  </tbody>\n",
       "</table>\n",
       "</div>"
      ],
      "text/plain": [
       "      Abra  Apayao  Benguet  Ifugao  Kalinga\n",
       "1   4158.0  9235.0   4287.0  8063.0  35257.0\n",
       "0   1243.0  2934.0    148.0  3300.0  10553.0\n",
       "10     0.0     1.0      NaN     NaN      NaN"
      ]
     },
     "execution_count": 15,
     "metadata": {},
     "output_type": "execute_result"
    }
   ],
   "source": [
    "values = {'Abra': 0, 'Apayao': 1}\n",
    "df.head().reindex([1,0,10]).fillna(value=values)"
   ]
  },
  {
   "cell_type": "markdown",
   "metadata": {},
   "source": [
    "### isnull()"
   ]
  },
  {
   "cell_type": "markdown",
   "metadata": {},
   "source": [
    "根据数据是否存在，返回布尔数值的DataFrame"
   ]
  },
  {
   "cell_type": "code",
   "execution_count": 16,
   "metadata": {},
   "outputs": [
    {
     "data": {
      "text/html": [
       "<div>\n",
       "<style scoped>\n",
       "    .dataframe tbody tr th:only-of-type {\n",
       "        vertical-align: middle;\n",
       "    }\n",
       "\n",
       "    .dataframe tbody tr th {\n",
       "        vertical-align: top;\n",
       "    }\n",
       "\n",
       "    .dataframe thead th {\n",
       "        text-align: right;\n",
       "    }\n",
       "</style>\n",
       "<table border=\"1\" class=\"dataframe\">\n",
       "  <thead>\n",
       "    <tr style=\"text-align: right;\">\n",
       "      <th></th>\n",
       "      <th>Abra</th>\n",
       "      <th>Apayao</th>\n",
       "      <th>Benguet</th>\n",
       "      <th>Ifugao</th>\n",
       "      <th>Kalinga</th>\n",
       "    </tr>\n",
       "  </thead>\n",
       "  <tbody>\n",
       "    <tr>\n",
       "      <th>1</th>\n",
       "      <td>False</td>\n",
       "      <td>False</td>\n",
       "      <td>False</td>\n",
       "      <td>False</td>\n",
       "      <td>False</td>\n",
       "    </tr>\n",
       "    <tr>\n",
       "      <th>0</th>\n",
       "      <td>False</td>\n",
       "      <td>False</td>\n",
       "      <td>False</td>\n",
       "      <td>False</td>\n",
       "      <td>False</td>\n",
       "    </tr>\n",
       "    <tr>\n",
       "      <th>10</th>\n",
       "      <td>True</td>\n",
       "      <td>True</td>\n",
       "      <td>True</td>\n",
       "      <td>True</td>\n",
       "      <td>True</td>\n",
       "    </tr>\n",
       "  </tbody>\n",
       "</table>\n",
       "</div>"
      ],
      "text/plain": [
       "     Abra  Apayao  Benguet  Ifugao  Kalinga\n",
       "1   False   False    False   False    False\n",
       "0   False   False    False   False    False\n",
       "10   True    True     True    True     True"
      ]
     },
     "execution_count": 16,
     "metadata": {},
     "output_type": "execute_result"
    }
   ],
   "source": [
    "df.head().reindex([1,0,10]).isna()"
   ]
  },
  {
   "cell_type": "markdown",
   "metadata": {},
   "source": [
    "## Pandas中的可视化工具"
   ]
  },
  {
   "cell_type": "code",
   "execution_count": 17,
   "metadata": {},
   "outputs": [
    {
     "data": {
      "text/html": [
       "<div>\n",
       "<style scoped>\n",
       "    .dataframe tbody tr th:only-of-type {\n",
       "        vertical-align: middle;\n",
       "    }\n",
       "\n",
       "    .dataframe tbody tr th {\n",
       "        vertical-align: top;\n",
       "    }\n",
       "\n",
       "    .dataframe thead th {\n",
       "        text-align: right;\n",
       "    }\n",
       "</style>\n",
       "<table border=\"1\" class=\"dataframe\">\n",
       "  <thead>\n",
       "    <tr style=\"text-align: right;\">\n",
       "      <th></th>\n",
       "      <th>Abra</th>\n",
       "      <th>Apayao</th>\n",
       "      <th>Benguet</th>\n",
       "      <th>Ifugao</th>\n",
       "      <th>Kalinga</th>\n",
       "    </tr>\n",
       "  </thead>\n",
       "  <tbody>\n",
       "    <tr>\n",
       "      <th>0</th>\n",
       "      <td>1243</td>\n",
       "      <td>2934</td>\n",
       "      <td>148</td>\n",
       "      <td>3300</td>\n",
       "      <td>10553</td>\n",
       "    </tr>\n",
       "    <tr>\n",
       "      <th>1</th>\n",
       "      <td>4158</td>\n",
       "      <td>9235</td>\n",
       "      <td>4287</td>\n",
       "      <td>8063</td>\n",
       "      <td>35257</td>\n",
       "    </tr>\n",
       "    <tr>\n",
       "      <th>2</th>\n",
       "      <td>1787</td>\n",
       "      <td>1922</td>\n",
       "      <td>1955</td>\n",
       "      <td>1074</td>\n",
       "      <td>4544</td>\n",
       "    </tr>\n",
       "    <tr>\n",
       "      <th>3</th>\n",
       "      <td>17152</td>\n",
       "      <td>14501</td>\n",
       "      <td>3536</td>\n",
       "      <td>19607</td>\n",
       "      <td>31687</td>\n",
       "    </tr>\n",
       "    <tr>\n",
       "      <th>4</th>\n",
       "      <td>1266</td>\n",
       "      <td>2385</td>\n",
       "      <td>2530</td>\n",
       "      <td>3315</td>\n",
       "      <td>8520</td>\n",
       "    </tr>\n",
       "  </tbody>\n",
       "</table>\n",
       "</div>"
      ],
      "text/plain": [
       "    Abra  Apayao  Benguet  Ifugao  Kalinga\n",
       "0   1243    2934      148    3300    10553\n",
       "1   4158    9235     4287    8063    35257\n",
       "2   1787    1922     1955    1074     4544\n",
       "3  17152   14501     3536   19607    31687\n",
       "4   1266    2385     2530    3315     8520"
      ]
     },
     "execution_count": 17,
     "metadata": {},
     "output_type": "execute_result"
    }
   ],
   "source": [
    "data = df.head()\n",
    "data"
   ]
  },
  {
   "cell_type": "markdown",
   "metadata": {},
   "source": [
    "### 折线图"
   ]
  },
  {
   "cell_type": "code",
   "execution_count": 18,
   "metadata": {},
   "outputs": [
    {
     "data": {
      "text/plain": [
       "<matplotlib.axes._subplots.AxesSubplot at 0x202bb209748>"
      ]
     },
     "execution_count": 18,
     "metadata": {},
     "output_type": "execute_result"
    },
    {
     "data": {
      "image/png": "[encoded data removed]",
      "text/plain": [
       "<Figure size 432x288 with 1 Axes>"
      ]
     },
     "metadata": {
      "needs_background": "light"
     },
     "output_type": "display_data"
    }
   ],
   "source": [
    "data.plot()"
   ]
  },
  {
   "cell_type": "markdown",
   "metadata": {},
   "source": [
    "### 条形图"
   ]
  },
  {
   "cell_type": "code",
   "execution_count": 19,
   "metadata": {},
   "outputs": [
    {
     "data": {
      "text/plain": [
       "<matplotlib.axes._subplots.AxesSubplot at 0x202bd302828>"
      ]
     },
     "execution_count": 19,
     "metadata": {},
     "output_type": "execute_result"
    },
    {
     "data": {
      "image/png": "[encoded data removed]",
      "text/plain": [
       "<Figure size 432x288 with 1 Axes>"
      ]
     },
     "metadata": {
      "needs_background": "light"
     },
     "output_type": "display_data"
    }
   ],
   "source": [
    "data.plot.bar()"
   ]
  },
  {
   "cell_type": "code",
   "execution_count": 20,
   "metadata": {},
   "outputs": [
    {
     "data": {
      "text/plain": [
       "<matplotlib.axes._subplots.AxesSubplot at 0x202bd3bb198>"
      ]
     },
     "execution_count": 20,
     "metadata": {},
     "output_type": "execute_result"
    },
    {
     "data": {
      "image/png": "[encoded data removed]",
      "text/plain": [
       "<Figure size 432x288 with 1 Axes>"
      ]
     },
     "metadata": {
      "needs_background": "light"
     },
     "output_type": "display_data"
    }
   ],
   "source": [
    "data.plot.barh(stacked=True)"
   ]
  },
  {
   "cell_type": "markdown",
   "metadata": {},
   "source": [
    "### 直方图"
   ]
  },
  {
   "cell_type": "code",
   "execution_count": 21,
   "metadata": {},
   "outputs": [
    {
     "data": {
      "text/plain": [
       "<matplotlib.axes._subplots.AxesSubplot at 0x202bd4371d0>"
      ]
     },
     "execution_count": 21,
     "metadata": {},
     "output_type": "execute_result"
    },
    {
     "data": {
      "image/png": "[encoded data removed]",
      "text/plain": [
       "<Figure size 432x288 with 1 Axes>"
      ]
     },
     "metadata": {
      "needs_background": "light"
     },
     "output_type": "display_data"
    }
   ],
   "source": [
    "df['Abra'].plot.hist(bins=50)"
   ]
  },
  {
   "cell_type": "markdown",
   "metadata": {},
   "source": [
    "### 饼状图"
   ]
  },
  {
   "cell_type": "code",
   "execution_count": 53,
   "metadata": {},
   "outputs": [
    {
     "data": {
      "text/plain": [
       "array([<matplotlib.axes._subplots.AxesSubplot object at 0x00000202C2EC5160>],\n",
       "      dtype=object)"
      ]
     },
     "execution_count": 53,
     "metadata": {},
     "output_type": "execute_result"
    },
    {
     "data": {
      "image/png": "[encoded data removed]",
      "text/plain": [
       "<Figure size 432x288 with 1 Axes>"
      ]
     },
     "metadata": {},
     "output_type": "display_data"
    }
   ],
   "source": [
    "df.T[0].plot.pie(subplots=True)"
   ]
  },
  {
   "cell_type": "markdown",
   "metadata": {},
   "source": [
    "## 将 df.DataFrame 转换成 Numpy 数据类型"
   ]
  },
  {
   "cell_type": "code",
   "execution_count": 55,
   "metadata": {},
   "outputs": [],
   "source": [
    "df_numpy=df.values"
   ]
  },
  {
   "cell_type": "code",
   "execution_count": 57,
   "metadata": {},
   "outputs": [
    {
     "data": {
      "text/plain": [
       "array([[ 1243,  2934,   148,  3300, 10553],\n",
       "       [ 4158,  9235,  4287,  8063, 35257],\n",
       "       [ 1787,  1922,  1955,  1074,  4544],\n",
       "       [17152, 14501,  3536, 19607, 31687],\n",
       "       [ 1266,  2385,  2530,  3315,  8520],\n",
       "       [ 5576,  7452,   771, 13134, 28252],\n",
       "       [  927,  1099,  2796,  5134,  3106],\n",
       "       [21540, 17038,  2463, 14226, 36238],\n",
       "       [ 1039,  1382,  2592,  6842,  4973],\n",
       "       [ 5424, 10588,  1064, 13828, 40140],\n",
       "       [  981,  1311,  2560,  5078,  3466],\n",
       "       [27366, 15093,  3039, 14206, 32395],\n",
       "       [ 1100,  1701,  2382,  6750,  6233],\n",
       "       [ 7212, 11001,  1088, 14774, 41634],\n",
       "       [ 1048,  1427,  2847,  5526,  4402],\n",
       "       [25679, 15661,  2942, 14452, 33717],\n",
       "       [ 1055,  2191,  2119,  5882,  7352],\n",
       "       [ 5437,  6461,   734, 10477, 24494],\n",
       "       [ 1029,  1183,  2302,  6438,  3316],\n",
       "       [23710, 12222,  2598,  8446, 26659],\n",
       "       [ 1091,  2343,  2654,  9284,  8067],\n",
       "       [ 7684, 10038,   974, 12666, 37094],\n",
       "       [ 1192,  2668,  2899,  8347,  8233],\n",
       "       [34200, 11792,  2964, 14918, 26014],\n",
       "       [ 1484,  5521,  3218, 13284, 19446],\n",
       "       [ 8584,  8345,   872, 10287, 30530],\n",
       "       [ 1173,  3714,  3202,  8973,  5553],\n",
       "       [32640, 31357,  3747, 16595, 29662],\n",
       "       [ 1484,  5024,  3247, 12726, 17581],\n",
       "       [ 8197, 20326,   938,  5462, 56701],\n",
       "       [ 1227,  2421,  3460, 12211,  3789],\n",
       "       [33739, 32202,  4287, 15926, 55126],\n",
       "       [ 1519,  1254,  3549, 13973, 10774],\n",
       "       [ 8680, 23061,  1320,  5437, 52584],\n",
       "       [ 1529,   401,  4088,  8854,  2346],\n",
       "       [31753, 35127,  4903, 16022, 58237],\n",
       "       [ 1455,   960,  2753, 13044,  7555],\n",
       "       [ 9193, 28084,  1212,  6508, 51146],\n",
       "       [ 1458,  1461,  3715,  8692,  3204],\n",
       "       [34650, 30239,  4389, 17040, 55367],\n",
       "       [ 1504,  5320,  3300, 11886,  6877],\n",
       "       [ 9777, 40886,  1478,  6530, 64080],\n",
       "       [ 1509,  2804,  3960, 10867,  7643],\n",
       "       [35549, 37017,  5121, 18957, 60124],\n",
       "       [ 2170,  5098,  3660, 12950, 15558],\n",
       "       [10125, 42711,  1673,  6306, 49920],\n",
       "       [ 1748,  3372,  4107, 10867,  8683],\n",
       "       [36562, 34938,  5224, 19798, 58142],\n",
       "       [ 2220,  3421,  3822, 14629, 20984],\n",
       "       [10758, 45927,  1767,  6440, 63029],\n",
       "       [ 1845,  3560,  4878, 13388,  7014],\n",
       "       [38166, 42109,  5300, 20196, 65920],\n",
       "       [ 2268,  5450,  4028, 19630, 22275],\n",
       "       [11239, 41176,  1768,  6732, 64958],\n",
       "       [ 2006,  3450,  4961, 13654,  7760],\n",
       "       [57488, 54625,  6045, 21031, 64122],\n",
       "       [ 2376,  5336,  3709, 16177, 27212],\n",
       "       [11606, 38355,  2412, 11893, 67285],\n",
       "       [ 2030, 18416,  2208, 14880,  9586],\n",
       "       [59516, 39525,  8813, 20596, 64034],\n",
       "       [ 5790,  3606,  3736, 18750, 21711],\n",
       "       [12202, 41065,  2697, 10146, 67631],\n",
       "       [ 2189, 17808,  2208, 14570, 12250],\n",
       "       [56121, 37900,  7580, 20570, 54595],\n",
       "       [ 5805,  6265,  3471, 16537, 17608],\n",
       "       [12206, 34376,  2289,  7394, 51168],\n",
       "       [ 2318, 17356,  3877, 17785, 18505],\n",
       "       [57282, 38692,  6143, 18634, 46985],\n",
       "       [ 6101,  6206,  3404, 16000, 22397],\n",
       "       [12763, 37625,  2354,  9838, 65782],\n",
       "       [ 2470, 19532,  4045, 17125, 15279],\n",
       "       [59094, 35126,  5987, 18940, 52437],\n",
       "       [ 6209,  6335,  3530, 15560, 24385],\n",
       "       [13316, 38613,  2585,  7746, 66148],\n",
       "       [ 2505, 20878,  3519, 19737, 16513],\n",
       "       [60303, 40065,  7062, 19422, 61808],\n",
       "       [ 6311,  6756,  3561, 15910, 23349],\n",
       "       [13345, 38902,  2583, 11096, 68663],\n",
       "       [ 2623, 18264,  3745, 16787, 16900]], dtype=int64)"
      ]
     },
     "execution_count": 57,
     "metadata": {},
     "output_type": "execute_result"
    }
   ],
   "source": [
    "df_numpy"
   ]
  },
  {
   "cell_type": "markdown",
   "metadata": {},
   "source": [
    "## 探索 pandas 中分组及统计操作"
   ]
  },
  {
   "cell_type": "code",
   "execution_count": 59,
   "metadata": {},
   "outputs": [
    {
     "data": {
      "text/html": [
       "<div>\n",
       "<style scoped>\n",
       "    .dataframe tbody tr th:only-of-type {\n",
       "        vertical-align: middle;\n",
       "    }\n",
       "\n",
       "    .dataframe tbody tr th {\n",
       "        vertical-align: top;\n",
       "    }\n",
       "\n",
       "    .dataframe thead th {\n",
       "        text-align: right;\n",
       "    }\n",
       "</style>\n",
       "<table border=\"1\" class=\"dataframe\">\n",
       "  <thead>\n",
       "    <tr style=\"text-align: right;\">\n",
       "      <th></th>\n",
       "      <th>Abra</th>\n",
       "      <th>Apayao</th>\n",
       "      <th>Benguet</th>\n",
       "      <th>Ifugao</th>\n",
       "      <th>Kalinga</th>\n",
       "    </tr>\n",
       "  </thead>\n",
       "  <tbody>\n",
       "    <tr>\n",
       "      <th>count</th>\n",
       "      <td>79.000000</td>\n",
       "      <td>79.000000</td>\n",
       "      <td>79.000000</td>\n",
       "      <td>79.000000</td>\n",
       "      <td>79.000000</td>\n",
       "    </tr>\n",
       "    <tr>\n",
       "      <th>mean</th>\n",
       "      <td>12874.379747</td>\n",
       "      <td>16860.645570</td>\n",
       "      <td>3237.392405</td>\n",
       "      <td>12414.620253</td>\n",
       "      <td>30446.417722</td>\n",
       "    </tr>\n",
       "    <tr>\n",
       "      <th>std</th>\n",
       "      <td>16746.466945</td>\n",
       "      <td>15448.153794</td>\n",
       "      <td>1588.536429</td>\n",
       "      <td>5034.282019</td>\n",
       "      <td>22245.707692</td>\n",
       "    </tr>\n",
       "    <tr>\n",
       "      <th>min</th>\n",
       "      <td>927.000000</td>\n",
       "      <td>401.000000</td>\n",
       "      <td>148.000000</td>\n",
       "      <td>1074.000000</td>\n",
       "      <td>2346.000000</td>\n",
       "    </tr>\n",
       "    <tr>\n",
       "      <th>25%</th>\n",
       "      <td>1524.000000</td>\n",
       "      <td>3435.500000</td>\n",
       "      <td>2328.000000</td>\n",
       "      <td>8205.000000</td>\n",
       "      <td>8601.500000</td>\n",
       "    </tr>\n",
       "    <tr>\n",
       "      <th>50%</th>\n",
       "      <td>5790.000000</td>\n",
       "      <td>10588.000000</td>\n",
       "      <td>3202.000000</td>\n",
       "      <td>13044.000000</td>\n",
       "      <td>24494.000000</td>\n",
       "    </tr>\n",
       "    <tr>\n",
       "      <th>75%</th>\n",
       "      <td>13330.500000</td>\n",
       "      <td>33289.000000</td>\n",
       "      <td>3918.500000</td>\n",
       "      <td>16099.500000</td>\n",
       "      <td>52510.500000</td>\n",
       "    </tr>\n",
       "    <tr>\n",
       "      <th>max</th>\n",
       "      <td>60303.000000</td>\n",
       "      <td>54625.000000</td>\n",
       "      <td>8813.000000</td>\n",
       "      <td>21031.000000</td>\n",
       "      <td>68663.000000</td>\n",
       "    </tr>\n",
       "  </tbody>\n",
       "</table>\n",
       "</div>"
      ],
      "text/plain": [
       "               Abra        Apayao      Benguet        Ifugao       Kalinga\n",
       "count     79.000000     79.000000    79.000000     79.000000     79.000000\n",
       "mean   12874.379747  16860.645570  3237.392405  12414.620253  30446.417722\n",
       "std    16746.466945  15448.153794  1588.536429   5034.282019  22245.707692\n",
       "min      927.000000    401.000000   148.000000   1074.000000   2346.000000\n",
       "25%     1524.000000   3435.500000  2328.000000   8205.000000   8601.500000\n",
       "50%     5790.000000  10588.000000  3202.000000  13044.000000  24494.000000\n",
       "75%    13330.500000  33289.000000  3918.500000  16099.500000  52510.500000\n",
       "max    60303.000000  54625.000000  8813.000000  21031.000000  68663.000000"
      ]
     },
     "execution_count": 59,
     "metadata": {},
     "output_type": "execute_result"
    }
   ],
   "source": [
    "df.describe()"
   ]
  },
  {
   "cell_type": "code",
   "execution_count": 65,
   "metadata": {},
   "outputs": [
    {
     "data": {
      "text/html": [
       "<div>\n",
       "<style scoped>\n",
       "    .dataframe tbody tr th:only-of-type {\n",
       "        vertical-align: middle;\n",
       "    }\n",
       "\n",
       "    .dataframe tbody tr th {\n",
       "        vertical-align: top;\n",
       "    }\n",
       "\n",
       "    .dataframe thead th {\n",
       "        text-align: right;\n",
       "    }\n",
       "</style>\n",
       "<table border=\"1\" class=\"dataframe\">\n",
       "  <thead>\n",
       "    <tr style=\"text-align: right;\">\n",
       "      <th></th>\n",
       "      <th>Apayao</th>\n",
       "      <th>Benguet</th>\n",
       "      <th>Ifugao</th>\n",
       "      <th>Kalinga</th>\n",
       "    </tr>\n",
       "    <tr>\n",
       "      <th>Abra</th>\n",
       "      <th></th>\n",
       "      <th></th>\n",
       "      <th></th>\n",
       "      <th></th>\n",
       "    </tr>\n",
       "  </thead>\n",
       "  <tbody>\n",
       "    <tr>\n",
       "      <th>927</th>\n",
       "      <td>1099.0</td>\n",
       "      <td>2796.0</td>\n",
       "      <td>5134.0</td>\n",
       "      <td>3106.0</td>\n",
       "    </tr>\n",
       "    <tr>\n",
       "      <th>981</th>\n",
       "      <td>1311.0</td>\n",
       "      <td>2560.0</td>\n",
       "      <td>5078.0</td>\n",
       "      <td>3466.0</td>\n",
       "    </tr>\n",
       "    <tr>\n",
       "      <th>1029</th>\n",
       "      <td>1183.0</td>\n",
       "      <td>2302.0</td>\n",
       "      <td>6438.0</td>\n",
       "      <td>3316.0</td>\n",
       "    </tr>\n",
       "    <tr>\n",
       "      <th>1039</th>\n",
       "      <td>1382.0</td>\n",
       "      <td>2592.0</td>\n",
       "      <td>6842.0</td>\n",
       "      <td>4973.0</td>\n",
       "    </tr>\n",
       "    <tr>\n",
       "      <th>1048</th>\n",
       "      <td>1427.0</td>\n",
       "      <td>2847.0</td>\n",
       "      <td>5526.0</td>\n",
       "      <td>4402.0</td>\n",
       "    </tr>\n",
       "    <tr>\n",
       "      <th>1055</th>\n",
       "      <td>2191.0</td>\n",
       "      <td>2119.0</td>\n",
       "      <td>5882.0</td>\n",
       "      <td>7352.0</td>\n",
       "    </tr>\n",
       "    <tr>\n",
       "      <th>1091</th>\n",
       "      <td>2343.0</td>\n",
       "      <td>2654.0</td>\n",
       "      <td>9284.0</td>\n",
       "      <td>8067.0</td>\n",
       "    </tr>\n",
       "    <tr>\n",
       "      <th>1100</th>\n",
       "      <td>1701.0</td>\n",
       "      <td>2382.0</td>\n",
       "      <td>6750.0</td>\n",
       "      <td>6233.0</td>\n",
       "    </tr>\n",
       "    <tr>\n",
       "      <th>1173</th>\n",
       "      <td>3714.0</td>\n",
       "      <td>3202.0</td>\n",
       "      <td>8973.0</td>\n",
       "      <td>5553.0</td>\n",
       "    </tr>\n",
       "    <tr>\n",
       "      <th>1192</th>\n",
       "      <td>2668.0</td>\n",
       "      <td>2899.0</td>\n",
       "      <td>8347.0</td>\n",
       "      <td>8233.0</td>\n",
       "    </tr>\n",
       "    <tr>\n",
       "      <th>1227</th>\n",
       "      <td>2421.0</td>\n",
       "      <td>3460.0</td>\n",
       "      <td>12211.0</td>\n",
       "      <td>3789.0</td>\n",
       "    </tr>\n",
       "    <tr>\n",
       "      <th>1243</th>\n",
       "      <td>2934.0</td>\n",
       "      <td>148.0</td>\n",
       "      <td>3300.0</td>\n",
       "      <td>10553.0</td>\n",
       "    </tr>\n",
       "    <tr>\n",
       "      <th>1266</th>\n",
       "      <td>2385.0</td>\n",
       "      <td>2530.0</td>\n",
       "      <td>3315.0</td>\n",
       "      <td>8520.0</td>\n",
       "    </tr>\n",
       "    <tr>\n",
       "      <th>1455</th>\n",
       "      <td>960.0</td>\n",
       "      <td>2753.0</td>\n",
       "      <td>13044.0</td>\n",
       "      <td>7555.0</td>\n",
       "    </tr>\n",
       "    <tr>\n",
       "      <th>1458</th>\n",
       "      <td>1461.0</td>\n",
       "      <td>3715.0</td>\n",
       "      <td>8692.0</td>\n",
       "      <td>3204.0</td>\n",
       "    </tr>\n",
       "    <tr>\n",
       "      <th>1484</th>\n",
       "      <td>5272.5</td>\n",
       "      <td>3232.5</td>\n",
       "      <td>13005.0</td>\n",
       "      <td>18513.5</td>\n",
       "    </tr>\n",
       "    <tr>\n",
       "      <th>1504</th>\n",
       "      <td>5320.0</td>\n",
       "      <td>3300.0</td>\n",
       "      <td>11886.0</td>\n",
       "      <td>6877.0</td>\n",
       "    </tr>\n",
       "    <tr>\n",
       "      <th>1509</th>\n",
       "      <td>2804.0</td>\n",
       "      <td>3960.0</td>\n",
       "      <td>10867.0</td>\n",
       "      <td>7643.0</td>\n",
       "    </tr>\n",
       "    <tr>\n",
       "      <th>1519</th>\n",
       "      <td>1254.0</td>\n",
       "      <td>3549.0</td>\n",
       "      <td>13973.0</td>\n",
       "      <td>10774.0</td>\n",
       "    </tr>\n",
       "    <tr>\n",
       "      <th>1529</th>\n",
       "      <td>401.0</td>\n",
       "      <td>4088.0</td>\n",
       "      <td>8854.0</td>\n",
       "      <td>2346.0</td>\n",
       "    </tr>\n",
       "    <tr>\n",
       "      <th>1748</th>\n",
       "      <td>3372.0</td>\n",
       "      <td>4107.0</td>\n",
       "      <td>10867.0</td>\n",
       "      <td>8683.0</td>\n",
       "    </tr>\n",
       "    <tr>\n",
       "      <th>1787</th>\n",
       "      <td>1922.0</td>\n",
       "      <td>1955.0</td>\n",
       "      <td>1074.0</td>\n",
       "      <td>4544.0</td>\n",
       "    </tr>\n",
       "    <tr>\n",
       "      <th>1845</th>\n",
       "      <td>3560.0</td>\n",
       "      <td>4878.0</td>\n",
       "      <td>13388.0</td>\n",
       "      <td>7014.0</td>\n",
       "    </tr>\n",
       "    <tr>\n",
       "      <th>2006</th>\n",
       "      <td>3450.0</td>\n",
       "      <td>4961.0</td>\n",
       "      <td>13654.0</td>\n",
       "      <td>7760.0</td>\n",
       "    </tr>\n",
       "    <tr>\n",
       "      <th>2030</th>\n",
       "      <td>18416.0</td>\n",
       "      <td>2208.0</td>\n",
       "      <td>14880.0</td>\n",
       "      <td>9586.0</td>\n",
       "    </tr>\n",
       "    <tr>\n",
       "      <th>2170</th>\n",
       "      <td>5098.0</td>\n",
       "      <td>3660.0</td>\n",
       "      <td>12950.0</td>\n",
       "      <td>15558.0</td>\n",
       "    </tr>\n",
       "    <tr>\n",
       "      <th>2189</th>\n",
       "      <td>17808.0</td>\n",
       "      <td>2208.0</td>\n",
       "      <td>14570.0</td>\n",
       "      <td>12250.0</td>\n",
       "    </tr>\n",
       "    <tr>\n",
       "      <th>2220</th>\n",
       "      <td>3421.0</td>\n",
       "      <td>3822.0</td>\n",
       "      <td>14629.0</td>\n",
       "      <td>20984.0</td>\n",
       "    </tr>\n",
       "    <tr>\n",
       "      <th>2268</th>\n",
       "      <td>5450.0</td>\n",
       "      <td>4028.0</td>\n",
       "      <td>19630.0</td>\n",
       "      <td>22275.0</td>\n",
       "    </tr>\n",
       "    <tr>\n",
       "      <th>2318</th>\n",
       "      <td>17356.0</td>\n",
       "      <td>3877.0</td>\n",
       "      <td>17785.0</td>\n",
       "      <td>18505.0</td>\n",
       "    </tr>\n",
       "    <tr>\n",
       "      <th>...</th>\n",
       "      <td>...</td>\n",
       "      <td>...</td>\n",
       "      <td>...</td>\n",
       "      <td>...</td>\n",
       "    </tr>\n",
       "    <tr>\n",
       "      <th>9193</th>\n",
       "      <td>28084.0</td>\n",
       "      <td>1212.0</td>\n",
       "      <td>6508.0</td>\n",
       "      <td>51146.0</td>\n",
       "    </tr>\n",
       "    <tr>\n",
       "      <th>9777</th>\n",
       "      <td>40886.0</td>\n",
       "      <td>1478.0</td>\n",
       "      <td>6530.0</td>\n",
       "      <td>64080.0</td>\n",
       "    </tr>\n",
       "    <tr>\n",
       "      <th>10125</th>\n",
       "      <td>42711.0</td>\n",
       "      <td>1673.0</td>\n",
       "      <td>6306.0</td>\n",
       "      <td>49920.0</td>\n",
       "    </tr>\n",
       "    <tr>\n",
       "      <th>10758</th>\n",
       "      <td>45927.0</td>\n",
       "      <td>1767.0</td>\n",
       "      <td>6440.0</td>\n",
       "      <td>63029.0</td>\n",
       "    </tr>\n",
       "    <tr>\n",
       "      <th>11239</th>\n",
       "      <td>41176.0</td>\n",
       "      <td>1768.0</td>\n",
       "      <td>6732.0</td>\n",
       "      <td>64958.0</td>\n",
       "    </tr>\n",
       "    <tr>\n",
       "      <th>11606</th>\n",
       "      <td>38355.0</td>\n",
       "      <td>2412.0</td>\n",
       "      <td>11893.0</td>\n",
       "      <td>67285.0</td>\n",
       "    </tr>\n",
       "    <tr>\n",
       "      <th>12202</th>\n",
       "      <td>41065.0</td>\n",
       "      <td>2697.0</td>\n",
       "      <td>10146.0</td>\n",
       "      <td>67631.0</td>\n",
       "    </tr>\n",
       "    <tr>\n",
       "      <th>12206</th>\n",
       "      <td>34376.0</td>\n",
       "      <td>2289.0</td>\n",
       "      <td>7394.0</td>\n",
       "      <td>51168.0</td>\n",
       "    </tr>\n",
       "    <tr>\n",
       "      <th>12763</th>\n",
       "      <td>37625.0</td>\n",
       "      <td>2354.0</td>\n",
       "      <td>9838.0</td>\n",
       "      <td>65782.0</td>\n",
       "    </tr>\n",
       "    <tr>\n",
       "      <th>13316</th>\n",
       "      <td>38613.0</td>\n",
       "      <td>2585.0</td>\n",
       "      <td>7746.0</td>\n",
       "      <td>66148.0</td>\n",
       "    </tr>\n",
       "    <tr>\n",
       "      <th>13345</th>\n",
       "      <td>38902.0</td>\n",
       "      <td>2583.0</td>\n",
       "      <td>11096.0</td>\n",
       "      <td>68663.0</td>\n",
       "    </tr>\n",
       "    <tr>\n",
       "      <th>17152</th>\n",
       "      <td>14501.0</td>\n",
       "      <td>3536.0</td>\n",
       "      <td>19607.0</td>\n",
       "      <td>31687.0</td>\n",
       "    </tr>\n",
       "    <tr>\n",
       "      <th>21540</th>\n",
       "      <td>17038.0</td>\n",
       "      <td>2463.0</td>\n",
       "      <td>14226.0</td>\n",
       "      <td>36238.0</td>\n",
       "    </tr>\n",
       "    <tr>\n",
       "      <th>23710</th>\n",
       "      <td>12222.0</td>\n",
       "      <td>2598.0</td>\n",
       "      <td>8446.0</td>\n",
       "      <td>26659.0</td>\n",
       "    </tr>\n",
       "    <tr>\n",
       "      <th>25679</th>\n",
       "      <td>15661.0</td>\n",
       "      <td>2942.0</td>\n",
       "      <td>14452.0</td>\n",
       "      <td>33717.0</td>\n",
       "    </tr>\n",
       "    <tr>\n",
       "      <th>27366</th>\n",
       "      <td>15093.0</td>\n",
       "      <td>3039.0</td>\n",
       "      <td>14206.0</td>\n",
       "      <td>32395.0</td>\n",
       "    </tr>\n",
       "    <tr>\n",
       "      <th>31753</th>\n",
       "      <td>35127.0</td>\n",
       "      <td>4903.0</td>\n",
       "      <td>16022.0</td>\n",
       "      <td>58237.0</td>\n",
       "    </tr>\n",
       "    <tr>\n",
       "      <th>32640</th>\n",
       "      <td>31357.0</td>\n",
       "      <td>3747.0</td>\n",
       "      <td>16595.0</td>\n",
       "      <td>29662.0</td>\n",
       "    </tr>\n",
       "    <tr>\n",
       "      <th>33739</th>\n",
       "      <td>32202.0</td>\n",
       "      <td>4287.0</td>\n",
       "      <td>15926.0</td>\n",
       "      <td>55126.0</td>\n",
       "    </tr>\n",
       "    <tr>\n",
       "      <th>34200</th>\n",
       "      <td>11792.0</td>\n",
       "      <td>2964.0</td>\n",
       "      <td>14918.0</td>\n",
       "      <td>26014.0</td>\n",
       "    </tr>\n",
       "    <tr>\n",
       "      <th>34650</th>\n",
       "      <td>30239.0</td>\n",
       "      <td>4389.0</td>\n",
       "      <td>17040.0</td>\n",
       "      <td>55367.0</td>\n",
       "    </tr>\n",
       "    <tr>\n",
       "      <th>35549</th>\n",
       "      <td>37017.0</td>\n",
       "      <td>5121.0</td>\n",
       "      <td>18957.0</td>\n",
       "      <td>60124.0</td>\n",
       "    </tr>\n",
       "    <tr>\n",
       "      <th>36562</th>\n",
       "      <td>34938.0</td>\n",
       "      <td>5224.0</td>\n",
       "      <td>19798.0</td>\n",
       "      <td>58142.0</td>\n",
       "    </tr>\n",
       "    <tr>\n",
       "      <th>38166</th>\n",
       "      <td>42109.0</td>\n",
       "      <td>5300.0</td>\n",
       "      <td>20196.0</td>\n",
       "      <td>65920.0</td>\n",
       "    </tr>\n",
       "    <tr>\n",
       "      <th>56121</th>\n",
       "      <td>37900.0</td>\n",
       "      <td>7580.0</td>\n",
       "      <td>20570.0</td>\n",
       "      <td>54595.0</td>\n",
       "    </tr>\n",
       "    <tr>\n",
       "      <th>57282</th>\n",
       "      <td>38692.0</td>\n",
       "      <td>6143.0</td>\n",
       "      <td>18634.0</td>\n",
       "      <td>46985.0</td>\n",
       "    </tr>\n",
       "    <tr>\n",
       "      <th>57488</th>\n",
       "      <td>54625.0</td>\n",
       "      <td>6045.0</td>\n",
       "      <td>21031.0</td>\n",
       "      <td>64122.0</td>\n",
       "    </tr>\n",
       "    <tr>\n",
       "      <th>59094</th>\n",
       "      <td>35126.0</td>\n",
       "      <td>5987.0</td>\n",
       "      <td>18940.0</td>\n",
       "      <td>52437.0</td>\n",
       "    </tr>\n",
       "    <tr>\n",
       "      <th>59516</th>\n",
       "      <td>39525.0</td>\n",
       "      <td>8813.0</td>\n",
       "      <td>20596.0</td>\n",
       "      <td>64034.0</td>\n",
       "    </tr>\n",
       "    <tr>\n",
       "      <th>60303</th>\n",
       "      <td>40065.0</td>\n",
       "      <td>7062.0</td>\n",
       "      <td>19422.0</td>\n",
       "      <td>61808.0</td>\n",
       "    </tr>\n",
       "  </tbody>\n",
       "</table>\n",
       "<p>78 rows × 4 columns</p>\n",
       "</div>"
      ],
      "text/plain": [
       "        Apayao  Benguet   Ifugao  Kalinga\n",
       "Abra                                     \n",
       "927     1099.0   2796.0   5134.0   3106.0\n",
       "981     1311.0   2560.0   5078.0   3466.0\n",
       "1029    1183.0   2302.0   6438.0   3316.0\n",
       "1039    1382.0   2592.0   6842.0   4973.0\n",
       "1048    1427.0   2847.0   5526.0   4402.0\n",
       "1055    2191.0   2119.0   5882.0   7352.0\n",
       "1091    2343.0   2654.0   9284.0   8067.0\n",
       "1100    1701.0   2382.0   6750.0   6233.0\n",
       "1173    3714.0   3202.0   8973.0   5553.0\n",
       "1192    2668.0   2899.0   8347.0   8233.0\n",
       "1227    2421.0   3460.0  12211.0   3789.0\n",
       "1243    2934.0    148.0   3300.0  10553.0\n",
       "1266    2385.0   2530.0   3315.0   8520.0\n",
       "1455     960.0   2753.0  13044.0   7555.0\n",
       "1458    1461.0   3715.0   8692.0   3204.0\n",
       "1484    5272.5   3232.5  13005.0  18513.5\n",
       "1504    5320.0   3300.0  11886.0   6877.0\n",
       "1509    2804.0   3960.0  10867.0   7643.0\n",
       "1519    1254.0   3549.0  13973.0  10774.0\n",
       "1529     401.0   4088.0   8854.0   2346.0\n",
       "1748    3372.0   4107.0  10867.0   8683.0\n",
       "1787    1922.0   1955.0   1074.0   4544.0\n",
       "1845    3560.0   4878.0  13388.0   7014.0\n",
       "2006    3450.0   4961.0  13654.0   7760.0\n",
       "2030   18416.0   2208.0  14880.0   9586.0\n",
       "2170    5098.0   3660.0  12950.0  15558.0\n",
       "2189   17808.0   2208.0  14570.0  12250.0\n",
       "2220    3421.0   3822.0  14629.0  20984.0\n",
       "2268    5450.0   4028.0  19630.0  22275.0\n",
       "2318   17356.0   3877.0  17785.0  18505.0\n",
       "...        ...      ...      ...      ...\n",
       "9193   28084.0   1212.0   6508.0  51146.0\n",
       "9777   40886.0   1478.0   6530.0  64080.0\n",
       "10125  42711.0   1673.0   6306.0  49920.0\n",
       "10758  45927.0   1767.0   6440.0  63029.0\n",
       "11239  41176.0   1768.0   6732.0  64958.0\n",
       "11606  38355.0   2412.0  11893.0  67285.0\n",
       "12202  41065.0   2697.0  10146.0  67631.0\n",
       "12206  34376.0   2289.0   7394.0  51168.0\n",
       "12763  37625.0   2354.0   9838.0  65782.0\n",
       "13316  38613.0   2585.0   7746.0  66148.0\n",
       "13345  38902.0   2583.0  11096.0  68663.0\n",
       "17152  14501.0   3536.0  19607.0  31687.0\n",
       "21540  17038.0   2463.0  14226.0  36238.0\n",
       "23710  12222.0   2598.0   8446.0  26659.0\n",
       "25679  15661.0   2942.0  14452.0  33717.0\n",
       "27366  15093.0   3039.0  14206.0  32395.0\n",
       "31753  35127.0   4903.0  16022.0  58237.0\n",
       "32640  31357.0   3747.0  16595.0  29662.0\n",
       "33739  32202.0   4287.0  15926.0  55126.0\n",
       "34200  11792.0   2964.0  14918.0  26014.0\n",
       "34650  30239.0   4389.0  17040.0  55367.0\n",
       "35549  37017.0   5121.0  18957.0  60124.0\n",
       "36562  34938.0   5224.0  19798.0  58142.0\n",
       "38166  42109.0   5300.0  20196.0  65920.0\n",
       "56121  37900.0   7580.0  20570.0  54595.0\n",
       "57282  38692.0   6143.0  18634.0  46985.0\n",
       "57488  54625.0   6045.0  21031.0  64122.0\n",
       "59094  35126.0   5987.0  18940.0  52437.0\n",
       "59516  39525.0   8813.0  20596.0  64034.0\n",
       "60303  40065.0   7062.0  19422.0  61808.0\n",
       "\n",
       "[78 rows x 4 columns]"
      ]
     },
     "execution_count": 65,
     "metadata": {},
     "output_type": "execute_result"
    }
   ],
   "source": [
    "df.groupby('Abra').agg('mean')"
   ]
  }
 ],
 "metadata": {
  "kernelspec": {
   "display_name": "Machine Learning",
   "language": "python",
   "name": "ml"
  },
  "language_info": {
   "codemirror_mode": {
    "name": "ipython",
    "version": 3
   },
   "file_extension": ".py",
   "mimetype": "text/x-python",
   "name": "python",
   "nbconvert_exporter": "python",
   "pygments_lexer": "ipython3",
   "version": "3.6.6"
  }
 },
 "nbformat": 4,
 "nbformat_minor": 2
}
